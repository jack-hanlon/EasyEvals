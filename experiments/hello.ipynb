{
 "cells": [
  {
   "cell_type": "code",
   "execution_count": 1,
   "metadata": {},
   "outputs": [],
   "source": [
    "import json\n",
    "import pandas as pd"
   ]
  },
  {
   "cell_type": "code",
   "execution_count": 2,
   "metadata": {},
   "outputs": [
    {
     "data": {
      "text/plain": [
       "dict_keys(['run_id', 'created', 'task', 'task_id', 'task_version', 'task_file', 'task_attribs', 'task_args', 'dataset', 'model', 'model_args', 'config', 'revision', 'packages'])"
      ]
     },
     "execution_count": 2,
     "metadata": {},
     "output_type": "execute_result"
    }
   ],
   "source": [
    "eval_path = \"log-output/2024-11-23T00-27-58-08-00_theory-of-mind_fZviDx4z7a8UaPgMmCNmpD.json\"\n",
    "with open(eval_path, \"r\") as f:\n",
    "    eval_data = dict(json.load(f))\n",
    "\n",
    "eval_data['eval'].keys()\n",
    "\n"
   ]
  },
  {
   "cell_type": "code",
   "execution_count": 36,
   "metadata": {},
   "outputs": [],
   "source": [
    "samples = eval_data['eval']['dataset']['samples']\n",
    "model = eval_data['eval']['model']\n",
    "prompt = eval_data['plan']['steps'][0]['params']['template']\n",
    "accuracy = eval_data['results']['scores'][0]['metrics']['accuracy']['value']\n",
    "stderr = eval_data['results']['scores'][0]['metrics']['stderr']['value']\n",
    "run_start = eval_data['stats']['started_at']\n",
    "run_end = eval_data['stats']['completed_at']\n",
    "run_input_tokens = eval_data['stats']['model_usage'][model]['input_tokens']\n",
    "run_output_tokens = eval_data['stats']['model_usage'][model]['output_tokens']\n",
    "run_total_tokens = eval_data['stats']['model_usage'][model]['total_tokens']\n",
    "run_id = eval_data['eval']['run_id']\n",
    "run_data = {\n",
    "    'run_id': run_id,\n",
    "    'model': model,\n",
    "    'prompt': prompt,\n",
    "    'accuracy': accuracy,\n",
    "    'stderr': stderr,\n",
    "    'run_start': run_start,\n",
    "    'run_end': run_end,\n",
    "}\n",
    "\n",
    "run_data_df = pd.DataFrame([run_data])\n",
    "run_data_df['upper_bound'] = run_data_df['accuracy'] + 1.96 * run_data_df['stderr']\n",
    "run_data_df['lower_bound'] = run_data_df['accuracy'] - 1.96 * run_data_df['stderr']\n",
    "run_data_df.to_json('run_data.json', orient='records')\n",
    "\n"
   ]
  },
  {
   "cell_type": "code",
   "execution_count": 39,
   "metadata": {},
   "outputs": [
    {
     "data": {
      "text/plain": [
       "100"
      ]
     },
     "execution_count": 39,
     "metadata": {},
     "output_type": "execute_result"
    }
   ],
   "source": [
    "samples = eval_data['samples']\n",
    "len(samples)"
   ]
  },
  {
   "cell_type": "code",
   "execution_count": 40,
   "metadata": {},
   "outputs": [],
   "source": [
    "\n",
    "final_samples = []\n",
    "\n",
    "for sample in samples:   \n",
    "    \n",
    "    sample_id = sample['id']\n",
    "    epoch = sample['epoch']\n",
    "    input = sample['input'][0]['content']\n",
    "    target = sample['target']\n",
    "    messages = sample['messages']\n",
    "    output = sample['output']['choices'][0]['message']['content']\n",
    "    score = sample['scores']['model_graded_fact']['value']\n",
    "\n",
    "    final_samples.append({\n",
    "        'run_id': run_id,\n",
    "        'sample_id': sample_id,\n",
    "        'epoch': epoch,\n",
    "        'input': input,\n",
    "        'target': target,\n",
    "        'output': output,\n",
    "        'score': score,\n",
    "    })\n",
    "\n",
    "\n",
    "run_data_samples_df = pd.DataFrame(final_samples)\n",
    "run_data_samples_df['score_binary'] = run_data_samples_df['score'].apply(lambda x: 1 if x == 'C' else 0)\n",
    "run_data_samples_df['cumulative_score'] = run_data_samples_df['score_binary'].cumsum()\n",
    "run_data_samples_df['cumulative_score_percentage'] = run_data_samples_df['cumulative_score'] / run_data_samples_df['sample_id']\n",
    "run_data_samples_df.to_json('run_data_samples.json', orient='records')"
   ]
  },
  {
   "cell_type": "code",
   "execution_count": 24,
   "metadata": {},
   "outputs": [
    {
     "data": {
      "text/plain": [
       "score_binary\n",
       "1    79\n",
       "0    21\n",
       "Name: count, dtype: int64"
      ]
     },
     "execution_count": 24,
     "metadata": {},
     "output_type": "execute_result"
    }
   ],
   "source": [
    "\n",
    "\n"
   ]
  },
  {
   "cell_type": "code",
   "execution_count": null,
   "metadata": {},
   "outputs": [],
   "source": []
  }
 ],
 "metadata": {
  "kernelspec": {
   "display_name": ".venv",
   "language": "python",
   "name": "python3"
  },
  "language_info": {
   "codemirror_mode": {
    "name": "ipython",
    "version": 3
   },
   "file_extension": ".py",
   "mimetype": "text/x-python",
   "name": "python",
   "nbconvert_exporter": "python",
   "pygments_lexer": "ipython3",
   "version": "3.11.10"
  }
 },
 "nbformat": 4,
 "nbformat_minor": 2
}
