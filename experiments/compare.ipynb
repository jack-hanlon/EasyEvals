{
 "cells": [
  {
   "cell_type": "code",
   "execution_count": 8,
   "metadata": {},
   "outputs": [],
   "source": [
    "from inspect_ai import Task, task\n",
    "from inspect_ai.dataset import example_dataset\n",
    "from inspect_ai.scorer import model_graded_fact\n",
    "from inspect_ai.solver import (               \n",
    "  prompt_template, generate, self_critique   \n",
    ")                                             \n",
    "from inspect_ai import eval\n",
    "DEFAULT_PROMPT=\"{prompt}\"\n",
    "\n",
    "@task\n",
    "def theory_of_mind():\n",
    "    return Task(\n",
    "        dataset=example_dataset(\"theory_of_mind\"),\n",
    "        solver=[\n",
    "          prompt_template(DEFAULT_PROMPT),\n",
    "          generate(),\n",
    "          self_critique()\n",
    "        ],\n",
    "        scorer=model_graded_fact()\n",
    "    )"
   ]
  },
  {
   "cell_type": "code",
   "execution_count": 7,
   "metadata": {},
   "outputs": [
    {
     "data": {
      "text/plain": [
       "<function inspect_ai.solver._prompt.prompt_template.<locals>.solve(state: inspect_ai.solver._task_state.TaskState, generate: inspect_ai.solver._solver.Generate) -> inspect_ai.solver._task_state.TaskState>"
      ]
     },
     "execution_count": 7,
     "metadata": {},
     "output_type": "execute_result"
    }
   ],
   "source": [
    "eval(theory_of_mind(), model=\"openai/gpt-4o\")\n"
   ]
  }
 ],
 "metadata": {
  "kernelspec": {
   "display_name": ".venv",
   "language": "python",
   "name": "python3"
  },
  "language_info": {
   "codemirror_mode": {
    "name": "ipython",
    "version": 3
   },
   "file_extension": ".py",
   "mimetype": "text/x-python",
   "name": "python",
   "nbconvert_exporter": "python",
   "pygments_lexer": "ipython3",
   "version": "3.11.10"
  }
 },
 "nbformat": 4,
 "nbformat_minor": 2
}
